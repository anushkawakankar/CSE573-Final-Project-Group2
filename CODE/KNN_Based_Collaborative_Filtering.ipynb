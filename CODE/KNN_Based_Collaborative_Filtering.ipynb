{
  "cells": [
    {
      "cell_type": "markdown",
      "metadata": {
        "id": "OTXy9b8idqmC"
      },
      "source": [
        "#Similarity based Collaborative filtering"
      ]
    },
    {
      "cell_type": "code",
      "execution_count": 8,
      "metadata": {
        "id": "eqB38VA0yWSO"
      },
      "outputs": [],
      "source": [
        "import pandas as pd\n",
        "import numpy as np\n",
        "from sklearn.neighbors import KNeighborsClassifier\n",
        "from sklearn.neighbors import NearestNeighbors\n",
        "from evaluation import evaluate_scenario_1, evaluate_scenario_2, evaluate_scenario_3, evaluate_scenario_4, evaluate_scenario_5"
      ]
    },
    {
      "cell_type": "code",
      "execution_count": 9,
      "metadata": {
        "id": "IQgdAgnmeL9w"
      },
      "outputs": [],
      "source": [
        "movies_path = \"../DATA/movies.csv\"\n",
        "users_path = \"../DATA/users.csv\"\n",
        "ratings_path = \"../DATA/ratings.csv\""
      ]
    },
    {
      "cell_type": "code",
      "execution_count": 10,
      "metadata": {
        "id": "9j4_TsqEeHBB"
      },
      "outputs": [],
      "source": [
        "movies = pd.read_csv(movies_path)\n",
        "users = pd.read_csv(users_path)\n",
        "ratings = pd.read_csv(ratings_path)"
      ]
    },
    {
      "cell_type": "code",
      "execution_count": 11,
      "metadata": {
        "id": "3l5IIQNmwkpO"
      },
      "outputs": [],
      "source": [
        "def create_ratings_matrix(ratings):\n",
        "  matrix = np.zeros((ratings[\"user id\"].max(),ratings[\"item id\"].max()))\n",
        "  for index, row in ratings.iterrows():\n",
        "    matrix[row[\"user id\"]-1, row[\"item id\"]-1] = row[\"rating\"]\n",
        "  return matrix\n",
        "ratings_matrix = create_ratings_matrix(ratings)"
      ]
    },
    {
      "cell_type": "code",
      "execution_count": 12,
      "metadata": {
        "colab": {
          "base_uri": "https://localhost:8080/"
        },
        "id": "VUn-pi0Dwd7g",
        "outputId": "d1938122-f629-4bfd-9135-c2fd17cdc55b"
      },
      "outputs": [
        {
          "data": {
            "text/plain": [
              "array([[5., 3., 4., ..., 0., 0., 0.],\n",
              "       [4., 0., 0., ..., 0., 0., 0.],\n",
              "       [0., 0., 0., ..., 0., 0., 0.],\n",
              "       ...,\n",
              "       [5., 0., 0., ..., 0., 0., 0.],\n",
              "       [0., 0., 0., ..., 0., 0., 0.],\n",
              "       [0., 5., 0., ..., 0., 0., 0.]])"
            ]
          },
          "execution_count": 12,
          "metadata": {},
          "output_type": "execute_result"
        }
      ],
      "source": [
        "ratings_matrix"
      ]
    },
    {
      "cell_type": "code",
      "execution_count": 13,
      "metadata": {
        "id": "LT5Ud3ObdwpS"
      },
      "outputs": [],
      "source": [
        "class KNNCF:\n",
        "\n",
        "  def __init__(self, movies, users):\n",
        "    self.movies = movies\n",
        "    self.users = users\n",
        "    self.create_users_knn()\n",
        "    self.create_movies_knn()\n",
        "\n",
        "  def normalize(self, ratings_matrix):\n",
        "    mr = ratings_matrix.copy()\n",
        "    for iy, ix in np.ndindex(mr.shape):\n",
        "      if(mr[iy,ix] != 0):\n",
        "        mr[iy,ix]-=3\n",
        "    print(mr)\n",
        "    return mr\n",
        "\n",
        "  def create_users_knn(self):\n",
        "    self.users = self.users.join(pd.get_dummies(self.users.gender)+0).drop(\"gender\", axis=1)\n",
        "    self.users = self.users.join(pd.get_dummies(self.users.occupation)+0).drop(\"occupation\", axis=1)\n",
        "    self.users = self.users.drop(\"zip code\",  axis=1)\n",
        "    self.users_X = self.users.drop(\"user id\", axis = 1).to_numpy()\n",
        "    self.users_Y = self.users[\"user id\"].to_numpy()\n",
        "    self.knn_users = KNeighborsClassifier(n_neighbors=10)\n",
        "    self.knn_users.fit(self.users_X, self.users_Y)\n",
        "\n",
        "  def create_movies_knn(self):\n",
        "    self.movies = self.movies.drop('movie title', axis = 1).drop('IMDb URL', axis = 1).drop('video release date', axis = 1).drop('release date', axis = 1)\n",
        "    self.movies_X = self.movies.drop(\"movie id\", axis = 1).to_numpy()\n",
        "    self.movies_Y = self.movies[\"movie id\"].to_numpy()\n",
        "    self.knn_movies = KNeighborsClassifier(n_neighbors=10)\n",
        "    self.knn_movies.fit(self.movies_X, self.movies_Y)\n",
        "\n",
        "  def recommend_movies(self, ratings_matrix, user_ids, num_recommendations = 10):\n",
        "    knn = NearestNeighbors(n_neighbors=20)\n",
        "    knn.fit(ratings_matrix)\n",
        "\n",
        "    recommendations = []\n",
        "    for user_id in user_ids:\n",
        "      user_id = user_id-1\n",
        "      is_cold_start = np.sum(ratings_matrix[user_id])==0\n",
        "\n",
        "      weighted_ratings = np.zeros(ratings_matrix.shape[1])\n",
        "      if(is_cold_start):\n",
        "        result = self.knn_users.kneighbors([self.users_X[user_id]])\n",
        "        result = np.column_stack((result[0][0], result[1][0]))\n",
        "        for [dist, uid] in result:\n",
        "          weighted_ratings += ratings_matrix[int(uid)]/(1+dist)\n",
        "\n",
        "      else:\n",
        "        distances, user_indices = knn.kneighbors(ratings_matrix[user_id].reshape(1, -1), return_distance=True)\n",
        "        user_indices = user_indices[0][1:]\n",
        "        distances = distances[0][1:]\n",
        "        for ii, uid in enumerate(user_indices):\n",
        "          weighted_ratings+=(ratings_matrix[uid]/(1+distances[ii]))\n",
        "\n",
        "      recommended_item_indices = np.argsort(weighted_ratings)[::-1]\n",
        "      unrated_items = [i for i in recommended_item_indices if ratings_matrix[user_id, i] == 0]\n",
        "      recommendations.append(np.array(unrated_items[:num_recommendations])+1)\n",
        "\n",
        "    return recommendations\n",
        "\n",
        "  def recommend_users(self, ratings_matrix, movie_ids, num_recommendations = 10):\n",
        "    knn = NearestNeighbors(n_neighbors=20)\n",
        "    knn.fit(ratings_matrix.T)\n",
        "    recommendations = []\n",
        "    for movie_id in movie_ids:\n",
        "      movie_id = movie_id-1\n",
        "      is_cold_start = np.sum(ratings_matrix[:, movie_id])==0\n",
        "\n",
        "      weighted_ratings = np.zeros(ratings_matrix.shape[0])\n",
        "      if(is_cold_start):\n",
        "        result = self.knn_movies.kneighbors([self.movies_X[movie_id]])\n",
        "        result = np.column_stack((result[0][0], result[1][0]))\n",
        "        for [dist, mid] in result:\n",
        "          dist = 1/(1+dist)\n",
        "          weighted_ratings += ratings_matrix[:, int(mid)]*dist\n",
        "\n",
        "      else:\n",
        "        distances, movie_indices = knn.kneighbors(ratings_matrix[:,movie_id].reshape(1, -1), return_distance=True)\n",
        "        movie_indices = movie_indices[0][1:]\n",
        "        distances = distances[0][1:]\n",
        "        for ii, mid in enumerate(movie_indices):\n",
        "          weighted_ratings+=(ratings_matrix[:,mid]/(1+distances[ii]))\n",
        "\n",
        "      recommended_user_indices = np.argsort(weighted_ratings)[::-1]\n",
        "      unrated_users = [i for i in recommended_user_indices if ratings_matrix[i, movie_id] == 0]\n",
        "      recommendations.append(np.array(unrated_users[:num_recommendations])+1)\n",
        "\n",
        "    return recommendations\n",
        "\n",
        "  def predict_rating(self, ratings_matrix, rating_ids):\n",
        "    user_ratings_knn = NearestNeighbors(n_neighbors=50)\n",
        "    movie_ratings_knn = NearestNeighbors(n_neighbors=50)\n",
        "    user_ratings_knn.fit(ratings_matrix)\n",
        "    movie_ratings_knn.fit(ratings_matrix.T)\n",
        "    result = []\n",
        "\n",
        "    for user_id, movie_id in rating_ids:\n",
        "      user_id = user_id-1\n",
        "      movie_id = movie_id-1\n",
        "\n",
        "      #user based cf\n",
        "      distances, user_indices = user_ratings_knn.kneighbors(ratings_matrix[user_id].reshape(1, -1), return_distance=True)\n",
        "      similar_users_indices = user_indices[0][1:]\n",
        "      similar_users_ratings = []\n",
        "      for ii, similar_user_index in enumerate(similar_users_indices):\n",
        "        if(ratings_matrix[similar_user_index, movie_id] != 0):\n",
        "          similar_users_ratings.append(ratings_matrix[similar_user_index, movie_id])\n",
        "          \n",
        "      n1 = np.sum(similar_users_ratings)\n",
        "      d1 = len(similar_users_ratings)\n",
        "\n",
        "      #item based cf\n",
        "      distances, movie_indices = movie_ratings_knn.kneighbors(ratings_matrix.T[movie_id].reshape(1, -1), return_distance=True)\n",
        "      similar_movie_indices = movie_indices[0][1:]\n",
        "      similar_movie_ratings = []\n",
        "      for ii, similar_movie_index in enumerate(similar_movie_indices):\n",
        "        if(ratings_matrix[user_id, similar_movie_index] != 0):\n",
        "          similar_movie_ratings.append(ratings_matrix[user_id, similar_movie_index])\n",
        "\n",
        "      n2 = np.sum(similar_movie_ratings)\n",
        "      d2 = len(similar_movie_ratings)\n",
        "\n",
        "      if(d2==0 and d1==0):\n",
        "        predicted_rating = 3\n",
        "      elif(d2!=0 and d1!=0):\n",
        "        predicted_rating = ((n1/d1)+(n2/d2))/2\n",
        "      elif(d2==0):\n",
        "        predicted_rating = n1/d1\n",
        "      else:\n",
        "        predicted_rating = n2/d2\n",
        "      result.append(predicted_rating)\n",
        "\n",
        "    return np.array(result)"
      ]
    },
    {
      "cell_type": "code",
      "execution_count": 14,
      "metadata": {
        "colab": {
          "base_uri": "https://localhost:8080/"
        },
        "id": "lsaAHEWU4oD_",
        "outputId": "ca48b51b-322f-45b7-a6bd-eaf51d29f5e3"
      },
      "outputs": [
        {
          "name": "stdout",
          "output_type": "stream",
          "text": [
            "evaluate_scenario_1 Precision:  0.389\n",
            "evaluate_scenario_2 Precision:  0.44800000000000006\n",
            "evaluate_scenario_3 Precision:  0.46099999999999997\n",
            "evaluate_scenario_4 Precision:  0.56\n",
            "evaluate_scenario_5      RMSE:  1.0028364924201612\n"
          ]
        }
      ],
      "source": [
        "model = KNNCF(movies, users)\n",
        "print(\"evaluate_scenario_1 Precision: \", evaluate_scenario_1(model, ratings_matrix))\n",
        "print(\"evaluate_scenario_2 Precision: \", evaluate_scenario_2(model, ratings_matrix))\n",
        "print(\"evaluate_scenario_3 Precision: \", evaluate_scenario_3(model, ratings_matrix))\n",
        "print(\"evaluate_scenario_4 Precision: \", evaluate_scenario_4(model, ratings_matrix))\n",
        "print(\"evaluate_scenario_5      RMSE: \", evaluate_scenario_5(model, ratings_matrix))"
      ]
    }
  ],
  "metadata": {
    "colab": {
      "collapsed_sections": [
        "o_9mloPz0hXt"
      ],
      "provenance": []
    },
    "kernelspec": {
      "display_name": "Python 3",
      "name": "python3"
    },
    "language_info": {
      "codemirror_mode": {
        "name": "ipython",
        "version": 3
      },
      "file_extension": ".py",
      "mimetype": "text/x-python",
      "name": "python",
      "nbconvert_exporter": "python",
      "pygments_lexer": "ipython3",
      "version": "3.8.9"
    }
  },
  "nbformat": 4,
  "nbformat_minor": 0
}
