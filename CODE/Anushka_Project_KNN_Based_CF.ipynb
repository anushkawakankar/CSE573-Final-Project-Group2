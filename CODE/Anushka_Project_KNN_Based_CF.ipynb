{
  "nbformat": 4,
  "nbformat_minor": 0,
  "metadata": {
    "colab": {
      "provenance": []
    },
    "kernelspec": {
      "name": "python3",
      "display_name": "Python 3"
    },
    "language_info": {
      "name": "python"
    }
  },
  "cells": [
    {
      "cell_type": "markdown",
      "source": [
        "#Similarity based Collaborative filtering"
      ],
      "metadata": {
        "id": "OTXy9b8idqmC"
      }
    },
    {
      "cell_type": "code",
      "source": [
        "import pandas as pd\n",
        "import numpy as np\n",
        "from sklearn.neighbors import KNeighborsClassifier\n",
        "from sklearn.metrics.pairwise import cosine_similarity"
      ],
      "metadata": {
        "id": "eqB38VA0yWSO"
      },
      "execution_count": 105,
      "outputs": []
    },
    {
      "cell_type": "code",
      "source": [
        "movies_path = \"/content/drive/MyDrive/SWM/Project_Data/movies.csv\"\n",
        "users_path = \"/content/drive/MyDrive/SWM/Project_Data/users.csv\"\n",
        "ratings_path = \"/content/drive/MyDrive/SWM/Project_Data/ratings.csv\""
      ],
      "metadata": {
        "id": "IQgdAgnmeL9w"
      },
      "execution_count": 106,
      "outputs": []
    },
    {
      "cell_type": "code",
      "source": [
        "from google.colab import drive\n",
        "drive.mount('/content/drive')"
      ],
      "metadata": {
        "colab": {
          "base_uri": "https://localhost:8080/"
        },
        "id": "SvFaxvSDgXid",
        "outputId": "45e712dd-f2ef-49cd-b6f9-447e0a05b357"
      },
      "execution_count": 107,
      "outputs": [
        {
          "output_type": "stream",
          "name": "stdout",
          "text": [
            "Drive already mounted at /content/drive; to attempt to forcibly remount, call drive.mount(\"/content/drive\", force_remount=True).\n"
          ]
        }
      ]
    },
    {
      "cell_type": "code",
      "source": [
        "movies = pd.read_csv(movies_path)\n",
        "users = pd.read_csv(users_path)\n",
        "ratings = pd.read_csv(ratings_path)\n",
        "\n",
        "movies.columns"
      ],
      "metadata": {
        "id": "9j4_TsqEeHBB",
        "colab": {
          "base_uri": "https://localhost:8080/"
        },
        "outputId": "993b34b3-65d0-41f8-f990-a3a30a1592a7"
      },
      "execution_count": 108,
      "outputs": [
        {
          "output_type": "execute_result",
          "data": {
            "text/plain": [
              "Index(['movie id', 'movie title', 'release date', 'video release date',\n",
              "       'IMDb URL', 'unknown', 'Action', 'Adventure', 'Animation', 'Children's',\n",
              "       'Comedy', 'Crime', 'Documentary', 'Drama', 'Fantasy', 'Film-Noir',\n",
              "       'Horror', 'Musical', 'Mystery', 'Romance', 'Sci-Fi', 'Thriller', 'War',\n",
              "       'Western'],\n",
              "      dtype='object')"
            ]
          },
          "metadata": {},
          "execution_count": 108
        }
      ]
    },
    {
      "cell_type": "code",
      "source": [
        "def create_ratings_matrix(ratings):\n",
        "  matrix = np.zeros((ratings[\"user id\"].max(),ratings[\"item id\"].max()))\n",
        "  for index, row in ratings.iterrows():\n",
        "    matrix[row[\"user id\"]-1, row[\"item id\"]-1] = row[\"rating\"]\n",
        "  return matrix\n",
        "ratings_matrix = create_ratings_matrix(ratings)"
      ],
      "metadata": {
        "id": "3l5IIQNmwkpO"
      },
      "execution_count": 109,
      "outputs": []
    },
    {
      "cell_type": "code",
      "source": [
        "ratings_matrix"
      ],
      "metadata": {
        "colab": {
          "base_uri": "https://localhost:8080/"
        },
        "id": "VUn-pi0Dwd7g",
        "outputId": "8cbb6f85-8858-45c3-da19-0841fcf1e25c"
      },
      "execution_count": 110,
      "outputs": [
        {
          "output_type": "execute_result",
          "data": {
            "text/plain": [
              "array([[5., 3., 4., ..., 0., 0., 0.],\n",
              "       [4., 0., 0., ..., 0., 0., 0.],\n",
              "       [0., 0., 0., ..., 0., 0., 0.],\n",
              "       ...,\n",
              "       [5., 0., 0., ..., 0., 0., 0.],\n",
              "       [0., 0., 0., ..., 0., 0., 0.],\n",
              "       [0., 5., 0., ..., 0., 0., 0.]])"
            ]
          },
          "metadata": {},
          "execution_count": 110
        }
      ]
    },
    {
      "cell_type": "markdown",
      "source": [
        "# KNN based Collaborative Filtering\n"
      ],
      "metadata": {
        "id": "Ov5IPcvYeu3x"
      }
    },
    {
      "cell_type": "code",
      "source": [
        "import pandas as pd\n",
        "import numpy as np\n",
        "from sklearn.neighbors import NearestNeighbors\n",
        "from sklearn.preprocessing import OneHotEncoder\n",
        "from sklearn.impute import SimpleImputer\n",
        "\n",
        "class KNNCollaborativeFiltering:\n",
        "    def __init__(self, movies_df, users_df):\n",
        "        self.users_df = users_df\n",
        "        self.movies_df = movies_df\n",
        "        self.user_knn = None\n",
        "        self.movie_knn = None\n",
        "        self.train_knn_models()\n",
        "\n",
        "    def train_knn_models(self):\n",
        "        user_features = self.prepare_user_features()\n",
        "        self.user_knn = NearestNeighbors(metric='cosine')\n",
        "        self.user_knn.fit(user_features)\n",
        "\n",
        "        self.movie_knn = NearestNeighbors(metric='cosine')\n",
        "        movie_features = self.prepare_movie_features()\n",
        "        self.movie_knn.fit(movie_features)\n",
        "\n",
        "    def prepare_user_features(self):\n",
        "        user_features = self.users_df[['age', 'gender', 'occupation']]\n",
        "\n",
        "        gender_encoder = OneHotEncoder(sparse=False)\n",
        "        encoded_gender = gender_encoder.fit_transform(user_features[['gender']])\n",
        "        occupation_encoder = OneHotEncoder(sparse=False)\n",
        "        encoded_occupation = occupation_encoder.fit_transform(user_features[['occupation']])\n",
        "\n",
        "        user_features['age'] = user_features['age'] / user_features['age'].max()\n",
        "\n",
        "        user_features = np.concatenate([user_features[['age']].values, encoded_gender, encoded_occupation], axis=1)\n",
        "\n",
        "        return user_features\n",
        "\n",
        "    def prepare_movie_features(self):\n",
        "        movie_features = self.movies_df.drop(['movie id', 'movie title', 'video release date', 'IMDb URL'], axis=1)\n",
        "\n",
        "        movie_features['release_year'] = movie_features['release date'].apply(lambda x: int(x[-4:]) if isinstance(x, str) else np.nan)\n",
        "\n",
        "        movie_features.drop('release date', axis=1, inplace=True)\n",
        "\n",
        "        imputer = SimpleImputer(strategy='mean')\n",
        "        movie_features = imputer.fit_transform(movie_features)\n",
        "\n",
        "        return movie_features\n",
        "\n",
        "    def recommend_movies(self, ratings_matrix, user_ids, num_recommendations=10):\n",
        "        recommendations = []\n",
        "\n",
        "        for user_id in user_ids:\n",
        "            user_idx = user_id - 1\n",
        "            rated_movies = np.where(ratings_matrix[user_idx] > 0)[0]\n",
        "\n",
        "            if len(rated_movies) == 0:\n",
        "                mean_ratings = np.mean(ratings_matrix, axis=0)\n",
        "                unrated_top_movies = np.argsort(mean_ratings)[::-1][:num_recommendations]\n",
        "                recommendations.append([movie_id + 1 for movie_id in unrated_top_movies if movie_id not in rated_movies])\n",
        "            else:\n",
        "                distances, user_indices = self.user_knn.kneighbors([self.prepare_user_features()[user_idx]], n_neighbors=20)\n",
        "                similar_user_indices = user_indices[0][1:]\n",
        "\n",
        "                predicted_ratings = np.zeros(ratings_matrix.shape[1])\n",
        "\n",
        "                for sim_user_idx in similar_user_indices:\n",
        "                    similar_user_ratings = ratings_matrix[sim_user_idx]\n",
        "                    predicted_ratings += similar_user_ratings\n",
        "\n",
        "                predicted_ratings /= len(similar_user_indices)\n",
        "\n",
        "                predicted_ratings[ratings_matrix[user_idx] > 0] = 0\n",
        "\n",
        "                recommended_movies = np.argsort(predicted_ratings)[::-1][:num_recommendations]\n",
        "\n",
        "                recommendations.append([movie_id + 1 for movie_id in recommended_movies if movie_id not in rated_movies])\n",
        "\n",
        "        return recommendations\n",
        "\n",
        "    def recommend_users(self, ratings_matrix, movie_ids, num_recommendations=10):\n",
        "        recommendations = []\n",
        "\n",
        "        for movie_id in movie_ids:\n",
        "            movie_idx = movie_id - 1\n",
        "            rated_users = np.where(ratings_matrix[:, movie_idx] > 0)[0]\n",
        "\n",
        "            if len(rated_users) == 0:\n",
        "                mean_ratings = np.mean(ratings_matrix, axis=1)\n",
        "                unrated_top_users = np.argsort(mean_ratings)[::-1][:num_recommendations]\n",
        "                recommendations.append([user_id + 1 for user_id in unrated_top_users if user_id not in rated_users])\n",
        "            else:\n",
        "                distances, movie_indices = self.movie_knn.kneighbors([self.prepare_movie_features()[movie_idx]], n_neighbors=20)\n",
        "                similar_movie_indices = movie_indices[0][1:]\n",
        "\n",
        "                predicted_ratings = np.zeros(ratings_matrix.shape[0])\n",
        "\n",
        "                for sim_movie_idx in similar_movie_indices:\n",
        "                    similar_movie_ratings = ratings_matrix[:, sim_movie_idx]\n",
        "                    predicted_ratings += similar_movie_ratings\n",
        "\n",
        "                predicted_ratings /= len(similar_movie_indices)\n",
        "\n",
        "                predicted_ratings[ratings_matrix[:, movie_idx] > 0] = 0\n",
        "\n",
        "                recommended_users = np.argsort(predicted_ratings)[::-1][:num_recommendations]\n",
        "\n",
        "                recommendations.append([user_id + 1 for user_id in recommended_users if user_id not in rated_users])\n",
        "\n",
        "        return recommendations\n",
        "\n",
        "    def calculate_movie_similarity(self, target_movie_idx, similar_movie_indices):\n",
        "        target_movie_features = self.movies_df.iloc[target_movie_idx, 5:].values\n",
        "        similar_movie_features = self.movies_df.iloc[similar_movie_indices, 5:].values\n",
        "        target_movie_features_norm = target_movie_features / np.linalg.norm(target_movie_features)\n",
        "        similar_movie_features_norm = similar_movie_features / np.linalg.norm(similar_movie_features, axis=1)[:, np.newaxis]\n",
        "        similarities = np.dot(similar_movie_features_norm, target_movie_features_norm)\n",
        "\n",
        "        return similarities\n",
        "\n",
        "    def calculate_user_similarity(self, ratings_matrix, reference_users, target_users):\n",
        "        reference_ratings = ratings_matrix[reference_users]\n",
        "        target_ratings = ratings_matrix[target_users]\n",
        "\n",
        "        similarity_scores = np.dot(reference_ratings, target_ratings.T)\n",
        "\n",
        "        reference_norms = np.linalg.norm(reference_ratings, axis=1)\n",
        "        target_norms = np.linalg.norm(target_ratings, axis=1)\n",
        "\n",
        "        reference_norms = reference_norms[:, np.newaxis]\n",
        "        target_norms = target_norms[np.newaxis, :]\n",
        "\n",
        "        similarity_scores /= (reference_norms * target_norms)\n",
        "\n",
        "        return similarity_scores\n",
        "\n",
        "    def find_similar_movies(self, movie_idx):\n",
        "        movie_features = self.prepare_movie_features()\n",
        "        _, movie_indices = self.movie_knn.kneighbors([movie_features[movie_idx]])\n",
        "        similar_movie_indices = movie_indices[0][1:]\n",
        "        return similar_movie_indices\n",
        "\n",
        "    def find_similar_users(self, user_indices):\n",
        "        user_features = self.prepare_user_features()\n",
        "        _, user_indices = self.user_knn.kneighbors(user_features[user_indices])\n",
        "        similar_user_indices = user_indices[0][1:]\n",
        "        return similar_user_indices\n",
        "\n",
        "    def predict_rating(self, ratings_matrix, rating_ids):\n",
        "        predictions = []\n",
        "\n",
        "        for user_id, movie_id in rating_ids:\n",
        "            user_idx = user_id - 1\n",
        "            movie_idx = movie_id - 1\n",
        "            _, user_indices = self.user_knn.kneighbors([self.prepare_user_features()[user_idx]])\n",
        "            similar_user_indices = user_indices[0][1:]\n",
        "            similar_user_ratings = ratings_matrix[similar_user_indices, movie_idx]\n",
        "            user_rating_prediction = np.mean(similar_user_ratings) if len(similar_user_ratings) > 0 else np.nan\n",
        "            _, movie_indices = self.movie_knn.kneighbors([self.prepare_movie_features()[movie_idx]])\n",
        "            similar_movie_indices = movie_indices[0][1:]\n",
        "            similar_movie_ratings = ratings_matrix[user_idx, similar_movie_indices]\n",
        "            movie_rating_prediction = np.mean(similar_movie_ratings) if len(similar_movie_ratings) > 0 else np.nan\n",
        "            combined_prediction = 5 - (0.5 * user_rating_prediction + 0.5 * movie_rating_prediction)\n",
        "            predictions.append(combined_prediction)\n",
        "\n",
        "        return predictions\n"
      ],
      "metadata": {
        "id": "8Q32kVB1m4Cl"
      },
      "execution_count": 126,
      "outputs": []
    },
    {
      "cell_type": "markdown",
      "source": [
        "#Evaluate"
      ],
      "metadata": {
        "id": "NudbF15fdT5Q"
      }
    },
    {
      "cell_type": "code",
      "source": [
        "max_num_test = 10\n",
        "\n",
        "def rmse(values_1, values_2):\n",
        "  return np.sqrt(np.square(values_1 - values_2).mean())\n",
        "\n",
        "def precision(true_values, predicted_values):\n",
        "  true_values = set(true_values)\n",
        "  predicted_values = set(predicted_values)\n",
        "  intersection = true_values.intersection(predicted_values)\n",
        "  return len(intersection)/len(predicted_values)\n",
        "\n",
        "def evaluate_scenario_1(model, ratings_matrix, num_recommendations = 10):\n",
        "  #New user - cold start\n",
        "  user_indexes = []\n",
        "  for ii, ratings in enumerate(ratings_matrix):\n",
        "    if(len(np.where(ratings>3)[0]) > 2*num_recommendations):\n",
        "      user_indexes.append(ii)\n",
        "  user_indexes = np.array(user_indexes[:max_num_test])\n",
        "\n",
        "  modified_ratings = ratings_matrix.copy()\n",
        "  modified_ratings[user_indexes] = 0\n",
        "\n",
        "  recommended_movies = model.recommend_movies(modified_ratings, user_indexes+1, num_recommendations)\n",
        "  true_values = [np.where(ratings_matrix[user_index]>3)[0]+1 for user_index in user_indexes]\n",
        "  precisions = np.array([precision(true_values[ii], recommended_movies[ii]) for ii in range(len(user_indexes))])\n",
        "  return precisions.mean()\n",
        "\n",
        "def evaluate_scenario_2(model, ratings_matrix, num_recommendations = 10):\n",
        "  #New movie - cold start\n",
        "  movie_indexes = []\n",
        "  for ii, ratings in enumerate(ratings_matrix.T):\n",
        "    if(len(np.where(ratings>3)[0]) > 2*num_recommendations):\n",
        "      movie_indexes.append(ii)\n",
        "  movie_indexes = np.array(movie_indexes[:max_num_test])\n",
        "\n",
        "  modified_ratings = ratings_matrix.copy()\n",
        "  modified_ratings[:,movie_indexes] = 0\n",
        "\n",
        "  recommended_users = model.recommend_users(modified_ratings, movie_indexes+1, num_recommendations)\n",
        "  true_values = [np.where(ratings_matrix.T[movie_index]>3)[0]+1 for movie_index in movie_indexes]\n",
        "  precisions = np.array([precision(true_values[ii], recommended_users[ii]) for ii in range(len(movie_indexes))])\n",
        "  return precisions.mean()\n",
        "\n",
        "def evaluate_scenario_3(model, ratings_matrix, num_recommendations = 10):\n",
        "  #Given user\n",
        "  user_indexes = []\n",
        "  for ii, ratings in enumerate(ratings_matrix):\n",
        "    if(len(np.where(ratings>3)[0]) > 4*num_recommendations):\n",
        "      user_indexes.append(ii)\n",
        "  user_indexes = np.array(user_indexes[:max_num_test])\n",
        "\n",
        "  modified_ratings = ratings_matrix.copy()\n",
        "  true_values = []\n",
        "  for user_index in user_indexes:\n",
        "    removed_indexes = np.where(ratings_matrix[user_index]>3)[0][::2]\n",
        "    true_values.append(removed_indexes+1)\n",
        "    modified_ratings[user_index, removed_indexes] = 0\n",
        "\n",
        "  recommended_movies = model.recommend_movies(modified_ratings, user_indexes+1, num_recommendations)\n",
        "  precisions = np.array([precision(true_values[ii], recommended_movies[ii]) for ii in range(len(user_indexes))])\n",
        "  return precisions.mean()\n",
        "\n",
        "def evaluate_scenario_4(model, ratings_matrix, num_recommendations = 10):\n",
        "  #Given movie\n",
        "  movie_indexes = []\n",
        "  for ii, ratings in enumerate(ratings_matrix.T):\n",
        "    if(len(np.where(ratings>3)[0]) > 4*num_recommendations):\n",
        "      movie_indexes.append(ii)\n",
        "  movie_indexes = np.array(movie_indexes[:max_num_test])\n",
        "\n",
        "  modified_ratings = ratings_matrix.copy()\n",
        "  true_values = []\n",
        "  for movie_index in movie_indexes:\n",
        "    removed_indexes = np.where(ratings_matrix.T[movie_index]>3)[0][::2]\n",
        "    true_values.append(removed_indexes+1)\n",
        "    modified_ratings[removed_indexes, movie_index] = 0\n",
        "\n",
        "  recommended_users = model.recommend_users(modified_ratings, movie_indexes+1, num_recommendations)\n",
        "  precisions = np.array([precision(true_values[ii], recommended_users[ii]) for ii in range(len(movie_indexes))])\n",
        "  return precisions.mean()\n",
        "\n",
        "def evaluate_scenario_5(model, ratings_matrix, num_recommendations = 10):\n",
        "  #Predict rating\n",
        "  user_ids = np.array(range(0,ratings_matrix.shape[0],20))+1\n",
        "  movie_ids = np.array(range(0,ratings_matrix.shape[1],20))+1\n",
        "\n",
        "  rating_ids = []\n",
        "  for uid in user_ids:\n",
        "    for mid in movie_ids:\n",
        "      if(ratings_matrix[uid-1, mid-1]!=0):\n",
        "        rating_ids.append((uid, mid))\n",
        "\n",
        "  true_values = np.array([ratings_matrix[uid-1, mid-1] for uid, mid in rating_ids])\n",
        "  predicted_values = model.predict_rating(ratings_matrix, rating_ids)\n",
        "  return rmse(true_values, predicted_values)\n",
        "\n"
      ],
      "metadata": {
        "id": "3-swTxbRdqVv"
      },
      "execution_count": 124,
      "outputs": []
    },
    {
      "cell_type": "code",
      "source": [
        "import warnings\n",
        "\n",
        "warnings.simplefilter('ignore')\n",
        "\n",
        "model = KNNCollaborativeFiltering(movies, users)\n",
        "print(\"evaluate_scenario_1: \", evaluate_scenario_1(model, ratings_matrix,10))\n",
        "print(\"evaluate_scenario_2: \", evaluate_scenario_2(model, ratings_matrix,10))\n",
        "print(\"evaluate_scenario_3: \", evaluate_scenario_3(model, ratings_matrix,10))\n",
        "print(\"evaluate_scenario_4: \", evaluate_scenario_4(model, ratings_matrix,10))\n",
        "print(\"evaluate_scenario_5: \", evaluate_scenario_5(model, ratings_matrix))"
      ],
      "metadata": {
        "id": "YrcoRBlOg6zG",
        "colab": {
          "base_uri": "https://localhost:8080/"
        },
        "outputId": "4c32ef13-7da4-4993-9329-daee417a69f4"
      },
      "execution_count": 127,
      "outputs": [
        {
          "output_type": "stream",
          "name": "stdout",
          "text": [
            "evaluate_scenario_1:  0.5800000000000001\n",
            "evaluate_scenario_2:  0.4499999999999999\n",
            "evaluate_scenario_3:  0.55\n",
            "evaluate_scenario_4:  0.6\n",
            "evaluate_scenario_5:  1.8715730957441064\n"
          ]
        }
      ]
    },
    {
      "cell_type": "code",
      "source": [],
      "metadata": {
        "id": "4HlS5jyo0hPS"
      },
      "execution_count": 117,
      "outputs": []
    }
  ]
}