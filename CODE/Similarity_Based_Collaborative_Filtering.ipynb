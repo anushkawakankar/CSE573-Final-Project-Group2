{
  "cells": [
    {
      "cell_type": "markdown",
      "metadata": {
        "id": "OTXy9b8idqmC"
      },
      "source": [
        "#Similarity based Collaborative filtering"
      ]
    },
    {
      "cell_type": "code",
      "execution_count": 10,
      "metadata": {
        "id": "eqB38VA0yWSO"
      },
      "outputs": [],
      "source": [
        "import pandas as pd\n",
        "import numpy as np\n",
        "from sklearn.neighbors import KNeighborsClassifier\n",
        "from sklearn.metrics.pairwise import cosine_similarity\n",
        "from evaluation import evaluate_scenario_1, evaluate_scenario_2, evaluate_scenario_3, evaluate_scenario_4, evaluate_scenario_5"
      ]
    },
    {
      "cell_type": "code",
      "execution_count": 11,
      "metadata": {
        "id": "IQgdAgnmeL9w"
      },
      "outputs": [],
      "source": [
        "movies_path = \"../DATA/movies.csv\"\n",
        "users_path = \"../DATA/users.csv\"\n",
        "ratings_path = \"../DATA/ratings.csv\""
      ]
    },
    {
      "cell_type": "code",
      "execution_count": 12,
      "metadata": {
        "id": "9j4_TsqEeHBB"
      },
      "outputs": [],
      "source": [
        "movies = pd.read_csv(movies_path)\n",
        "users = pd.read_csv(users_path)\n",
        "ratings = pd.read_csv(ratings_path)"
      ]
    },
    {
      "cell_type": "code",
      "execution_count": 13,
      "metadata": {
        "id": "3l5IIQNmwkpO"
      },
      "outputs": [],
      "source": [
        "def create_ratings_matrix(ratings):\n",
        "  matrix = np.zeros((ratings[\"user id\"].max(),ratings[\"item id\"].max()))\n",
        "  for index, row in ratings.iterrows():\n",
        "    matrix[row[\"user id\"]-1, row[\"item id\"]-1] = row[\"rating\"]\n",
        "  return matrix\n",
        "ratings_matrix = create_ratings_matrix(ratings)"
      ]
    },
    {
      "cell_type": "code",
      "execution_count": 14,
      "metadata": {
        "colab": {
          "base_uri": "https://localhost:8080/"
        },
        "id": "VUn-pi0Dwd7g",
        "outputId": "d1938122-f629-4bfd-9135-c2fd17cdc55b"
      },
      "outputs": [
        {
          "data": {
            "text/plain": [
              "array([[5., 3., 4., ..., 0., 0., 0.],\n",
              "       [4., 0., 0., ..., 0., 0., 0.],\n",
              "       [0., 0., 0., ..., 0., 0., 0.],\n",
              "       ...,\n",
              "       [5., 0., 0., ..., 0., 0., 0.],\n",
              "       [0., 0., 0., ..., 0., 0., 0.],\n",
              "       [0., 5., 0., ..., 0., 0., 0.]])"
            ]
          },
          "execution_count": 14,
          "metadata": {},
          "output_type": "execute_result"
        }
      ],
      "source": [
        "ratings_matrix"
      ]
    },
    {
      "cell_type": "code",
      "execution_count": 15,
      "metadata": {
        "id": "LT5Ud3ObdwpS"
      },
      "outputs": [],
      "source": [
        "class SimilarityCF:\n",
        "\n",
        "  def pearson(self, values):\n",
        "    C = np.cov(values)\n",
        "    diag = np.diag(C)\n",
        "    N = np.sqrt(np.outer(diag, diag))\n",
        "    N[N == 0] = 1\n",
        "    return C / N\n",
        "\n",
        "  def __init__(self, movies, users, similarity_function = \"cosine\"):\n",
        "    self.movies = movies\n",
        "    self.users = users\n",
        "    self.create_users_knn()\n",
        "    self.create_movies_knn()\n",
        "    if(similarity_function == \"pearson\"):\n",
        "      self.similarity_function = self.pearson\n",
        "    else:\n",
        "      self.similarity_function = cosine_similarity\n",
        "\n",
        "\n",
        "  def normalize(self, ratings_matrix):\n",
        "    mr = ratings_matrix.copy()\n",
        "    for iy, ix in np.ndindex(mr.shape):\n",
        "      if(mr[iy,ix] != 0):\n",
        "        mr[iy,ix]-=3\n",
        "    print(mr)\n",
        "    return mr\n",
        "\n",
        "  def create_users_knn(self):\n",
        "    self.users = self.users.join(pd.get_dummies(self.users.gender)+0).drop(\"gender\", axis=1)\n",
        "    self.users = self.users.join(pd.get_dummies(self.users.occupation)+0).drop(\"occupation\", axis=1)\n",
        "    self.users = self.users.drop(\"zip code\",  axis=1)\n",
        "    self.users_X = self.users.drop(\"user id\", axis = 1).to_numpy()\n",
        "    self.users_Y = self.users[\"user id\"].to_numpy()\n",
        "    self.knn_users = KNeighborsClassifier(n_neighbors=10)\n",
        "    self.knn_users.fit(self.users_X, self.users_Y)\n",
        "\n",
        "  def create_movies_knn(self):\n",
        "    self.movies = self.movies.drop('movie title', axis = 1).drop('IMDb URL', axis = 1).drop('video release date', axis = 1).drop('release date', axis = 1)\n",
        "    self.movies_X = self.movies.drop(\"movie id\", axis = 1).to_numpy()\n",
        "    self.movies_Y = self.movies[\"movie id\"].to_numpy()\n",
        "    self.knn_movies = KNeighborsClassifier(n_neighbors=10)\n",
        "    self.knn_movies.fit(self.movies_X, self.movies_Y)\n",
        "\n",
        "  def recommend_movies(self, ratings_matrix, user_ids, num_recommendations = 10):\n",
        "    user_similarity = self.similarity_function(ratings_matrix)\n",
        "    recommendations = []\n",
        "    for user_id in user_ids:\n",
        "      user_id = user_id-1\n",
        "      is_cold_start = np.sum(ratings_matrix[user_id])==0\n",
        "\n",
        "      if(is_cold_start):\n",
        "        result = self.knn_users.kneighbors([self.users_X[user_id]], 10)\n",
        "        result = np.column_stack((result[0][0], result[1][0]))\n",
        "        weighted_ratings = np.zeros(ratings_matrix.shape[1])\n",
        "        for [dist, uid] in result:\n",
        "          weighted_ratings += ratings_matrix[int(uid)]/(1+dist)\n",
        "\n",
        "      else:\n",
        "        similarity_scores = user_similarity[user_id]\n",
        "        weighted_ratings = ratings_matrix.T.dot(similarity_scores)\n",
        "\n",
        "\n",
        "      # if(is_cold_start):\n",
        "      #   result = self.knn_users.kneighbors([self.users_X[user_id]], 10)\n",
        "      #   result = np.column_stack((result[0][0], result[1][0]))\n",
        "      #   weighted_ratings = np.zeros(ratings_matrix.shape[1])\n",
        "      #   similarity_scores = np.zeros((ratings_matrix.shape[0],))\n",
        "      #   for [dist, uid] in result:\n",
        "      #     # dist = 1/(1+dist)\n",
        "      #     similarity_scores+=(user_similarity[int(uid)]/(1+dist))\n",
        "      #     # weighted_ratings += ratings_matrix[int(uid)]*dist\n",
        "\n",
        "      # else:\n",
        "      #   similarity_scores = user_similarity[user_id]\n",
        "      # weighted_ratings = ratings_matrix.T.dot(similarity_scores)\n",
        "\n",
        "\n",
        "      # similarity_scores = user_similarity[user_id]\n",
        "      # similarity_scores = np.zeros((ratings_matrix.shape[0],))\n",
        "\n",
        "      # result = self.knn_users.kneighbors([self.users_X[user_id]], 5)\n",
        "      # result = np.column_stack((result[0][0], result[1][0]))\n",
        "      # weighted_ratings = np.zeros(ratings_matrix.shape[1])\n",
        "      # similarity_scores = np.zeros((ratings_matrix.shape[0],))\n",
        "      # for [dist, uid] in result:\n",
        "      #   similarity_scores+=(user_similarity[int(uid)])\n",
        "\n",
        "      # weighted_ratings = ratings_matrix.T.dot(similarity_scores)\n",
        "\n",
        "      recommended_item_indices = np.argsort(weighted_ratings)[::-1]\n",
        "      unrated_items = [i for i in recommended_item_indices if ratings_matrix[user_id, i] == 0]\n",
        "      recommendations.append(np.array(unrated_items[:num_recommendations])+1)\n",
        "\n",
        "    return recommendations\n",
        "\n",
        "  def recommend_users(self, ratings_matrix, movie_ids, num_recommendations = 10):\n",
        "    movie_similarity = self.similarity_function(ratings_matrix.T)\n",
        "    recommendations = []\n",
        "    for movie_id in movie_ids:\n",
        "      movie_id = movie_id-1\n",
        "      is_cold_start = np.sum(ratings_matrix[:, movie_id])==0\n",
        "\n",
        "      if(is_cold_start):\n",
        "        result = self.knn_movies.kneighbors([self.movies_X[movie_id]], 10)\n",
        "        result = np.column_stack((result[0][0], result[1][0]))\n",
        "        weighted_ratings = np.zeros(ratings_matrix.shape[0])\n",
        "        for [dist, mid] in result:\n",
        "          dist = 1/(1+dist)\n",
        "          weighted_ratings += ratings_matrix[:, int(mid)]*dist\n",
        "\n",
        "      else:\n",
        "        similarity_scores = movie_similarity[movie_id]\n",
        "        weighted_ratings = ratings_matrix.dot(similarity_scores)\n",
        "\n",
        "      recommended_user_indices = np.argsort(weighted_ratings)[::-1]\n",
        "      unrated_users = [i for i in recommended_user_indices if ratings_matrix[i, movie_id] == 0]\n",
        "      recommendations.append(np.array(unrated_users[:num_recommendations])+1)\n",
        "\n",
        "    return recommendations\n",
        "\n",
        "  def predict_rating(self, ratings_matrix, rating_ids):\n",
        "    k=10\n",
        "    user_similarity = self.similarity_function(ratings_matrix)\n",
        "    movie_similarity = self.similarity_function(ratings_matrix.T)\n",
        "    result = []\n",
        "\n",
        "    for user_id, movie_id in rating_ids:\n",
        "      user_id = user_id-1\n",
        "      movie_id = movie_id-1\n",
        "\n",
        "      #user based cf\n",
        "      similarity_scores = user_similarity[user_id]\n",
        "      similar_users_indices = np.argsort(similarity_scores)[::-1][1:k+1]\n",
        "\n",
        "      new_similar_users_indices = []\n",
        "      similar_users_ratings = []\n",
        "      for similar_user_index in similar_users_indices:\n",
        "        if(ratings_matrix[similar_user_index, movie_id] != 0):\n",
        "          new_similar_users_indices.append(similar_user_index)\n",
        "          similar_users_ratings.append(ratings_matrix[similar_user_index, movie_id])\n",
        "\n",
        "      numerator = np.dot(similarity_scores[new_similar_users_indices], similar_users_ratings)\n",
        "      denominator = np.sum(np.abs(similarity_scores[new_similar_users_indices]))\n",
        "\n",
        "      if denominator == 0:\n",
        "        predicted_rating_1 = 3\n",
        "      else:\n",
        "        predicted_rating_1 = numerator / denominator\n",
        "\n",
        "      #item based cf\n",
        "      similarity_scores = movie_similarity[movie_id]\n",
        "      similar_movie_indices = np.argsort(similarity_scores)[::-1][1:k+1]\n",
        "\n",
        "      new_similar_movie_indices = []\n",
        "      similar_movie_ratings = []\n",
        "      for similar_movie_index in similar_movie_indices:\n",
        "        if(ratings_matrix[user_id, similar_movie_index] != 0):\n",
        "          new_similar_movie_indices.append(similar_movie_index)\n",
        "          similar_movie_ratings.append(ratings_matrix[user_id, similar_movie_index])\n",
        "\n",
        "      numerator = np.dot(similarity_scores[new_similar_movie_indices], similar_movie_ratings)\n",
        "      denominator = np.sum(np.abs(similarity_scores[new_similar_movie_indices]))\n",
        "\n",
        "      if denominator == 0:\n",
        "        predicted_rating_2 = 3\n",
        "      else:\n",
        "        predicted_rating_2 = numerator / denominator\n",
        "      result.append((predicted_rating_1+predicted_rating_2)/2)\n",
        "\n",
        "    return np.array(result)"
      ]
    },
    {
      "cell_type": "code",
      "execution_count": 16,
      "metadata": {
        "colab": {
          "base_uri": "https://localhost:8080/"
        },
        "id": "lsaAHEWU4oD_",
        "outputId": "ca48b51b-322f-45b7-a6bd-eaf51d29f5e3"
      },
      "outputs": [
        {
          "name": "stdout",
          "output_type": "stream",
          "text": [
            "evaluate_scenario_1 Precision:  0.48\n",
            "evaluate_scenario_2 Precision:  0.5599999999999999\n",
            "evaluate_scenario_3 Precision:  0.5999999999999999\n",
            "evaluate_scenario_4 Precision:  0.66\n",
            "evaluate_scenario_5      RMSE:  1.0372920531043601\n"
          ]
        }
      ],
      "source": [
        "model = SimilarityCF(movies, users, \"cosine\")\n",
        "print(\"evaluate_scenario_1 Precision: \", evaluate_scenario_1(model, ratings_matrix))\n",
        "print(\"evaluate_scenario_2 Precision: \", evaluate_scenario_2(model, ratings_matrix))\n",
        "print(\"evaluate_scenario_3 Precision: \", evaluate_scenario_3(model, ratings_matrix))\n",
        "print(\"evaluate_scenario_4 Precision: \", evaluate_scenario_4(model, ratings_matrix))\n",
        "print(\"evaluate_scenario_5      RMSE: \", evaluate_scenario_5(model, ratings_matrix))"
      ]
    },
    {
      "cell_type": "code",
      "execution_count": 17,
      "metadata": {
        "colab": {
          "base_uri": "https://localhost:8080/"
        },
        "id": "h_6nJw3w4pCH",
        "outputId": "360b7daf-ffbd-4478-8c3f-0e34075c2293"
      },
      "outputs": [
        {
          "name": "stdout",
          "output_type": "stream",
          "text": [
            "evaluate_scenario_1 Precision:  0.48\n",
            "evaluate_scenario_2 Precision:  0.5599999999999999\n",
            "evaluate_scenario_3 Precision:  0.61\n",
            "evaluate_scenario_4 Precision:  0.72\n",
            "evaluate_scenario_5      RMSE:  0.9905150459980745\n"
          ]
        }
      ],
      "source": [
        "model = SimilarityCF(movies, users, \"pearson\")\n",
        "print(\"evaluate_scenario_1 Precision: \", evaluate_scenario_1(model, ratings_matrix))\n",
        "print(\"evaluate_scenario_2 Precision: \", evaluate_scenario_2(model, ratings_matrix))\n",
        "print(\"evaluate_scenario_3 Precision: \", evaluate_scenario_3(model, ratings_matrix))\n",
        "print(\"evaluate_scenario_4 Precision: \", evaluate_scenario_4(model, ratings_matrix))\n",
        "print(\"evaluate_scenario_5      RMSE: \", evaluate_scenario_5(model, ratings_matrix))"
      ]
    }
  ],
  "metadata": {
    "colab": {
      "collapsed_sections": [
        "o_9mloPz0hXt"
      ],
      "provenance": []
    },
    "kernelspec": {
      "display_name": "Python 3",
      "name": "python3"
    },
    "language_info": {
      "codemirror_mode": {
        "name": "ipython",
        "version": 3
      },
      "file_extension": ".py",
      "mimetype": "text/x-python",
      "name": "python",
      "nbconvert_exporter": "python",
      "pygments_lexer": "ipython3",
      "version": "3.8.9"
    }
  },
  "nbformat": 4,
  "nbformat_minor": 0
}
