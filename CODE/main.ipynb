{
 "cells": [
  {
   "cell_type": "code",
   "execution_count": 1,
   "metadata": {},
   "outputs": [],
   "source": [
    "import numpy as np\n",
    "import pandas as pd\n",
    "from SimilarityBasedCF import SimilarityCF\n",
    "from KNNBasedCF import KNNCF\n",
    "from Anushkas_KNNCF import KNNCollaborativeFiltering\n",
    "from evaluation import evaluate_scenario_1, evaluate_scenario_2, evaluate_scenario_3, evaluate_scenario_4, evaluate_scenario_5"
   ]
  },
  {
   "cell_type": "code",
   "execution_count": 2,
   "metadata": {},
   "outputs": [],
   "source": [
    "movies_path = \"../DATA/movies.csv\"\n",
    "users_path = \"../DATA/users.csv\"\n",
    "ratings_path = \"../DATA/ratings.csv\""
   ]
  },
  {
   "cell_type": "code",
   "execution_count": 3,
   "metadata": {},
   "outputs": [],
   "source": [
    "movies = pd.read_csv(movies_path)\n",
    "users = pd.read_csv(users_path)\n",
    "ratings = pd.read_csv(ratings_path)\n",
    "\n",
    "def create_ratings_matrix(ratings):\n",
    "  matrix = np.zeros((ratings[\"user id\"].max(),ratings[\"item id\"].max()))\n",
    "  for index, row in ratings.iterrows():\n",
    "    matrix[row[\"user id\"]-1, row[\"item id\"]-1] = row[\"rating\"]\n",
    "  return matrix\n",
    "ratings_matrix = create_ratings_matrix(ratings)"
   ]
  },
  {
   "cell_type": "code",
   "execution_count": 4,
   "metadata": {},
   "outputs": [
    {
     "name": "stdout",
     "output_type": "stream",
     "text": [
      "evaluate_scenario_1 Precision:  0.4225\n",
      "evaluate_scenario_2 Precision:  0.503\n",
      "evaluate_scenario_3 Precision:  0.5359999999999999\n",
      "evaluate_scenario_4 Precision:  0.5310000000000001\n",
      "evaluate_scenario_5      RMSE:  1.0228126441643672\n"
     ]
    }
   ],
   "source": [
    "model = SimilarityCF(movies, users, \"cosine\")\n",
    "print(\"evaluate_scenario_1 Precision: \", evaluate_scenario_1(model, ratings_matrix))\n",
    "print(\"evaluate_scenario_2 Precision: \", evaluate_scenario_2(model, ratings_matrix))\n",
    "print(\"evaluate_scenario_3 Precision: \", evaluate_scenario_3(model, ratings_matrix))\n",
    "print(\"evaluate_scenario_4 Precision: \", evaluate_scenario_4(model, ratings_matrix))\n",
    "print(\"evaluate_scenario_5      RMSE: \", evaluate_scenario_5(model, ratings_matrix))"
   ]
  },
  {
   "cell_type": "code",
   "execution_count": 5,
   "metadata": {},
   "outputs": [
    {
     "name": "stdout",
     "output_type": "stream",
     "text": [
      "evaluate_scenario_1 Precision:  0.4225\n",
      "evaluate_scenario_2 Precision:  0.5\n",
      "evaluate_scenario_3 Precision:  0.557\n",
      "evaluate_scenario_4 Precision:  0.606\n",
      "evaluate_scenario_5      RMSE:  0.9755052813411583\n"
     ]
    }
   ],
   "source": [
    "model = SimilarityCF(movies, users, \"pearson\")\n",
    "print(\"evaluate_scenario_1 Precision: \", evaluate_scenario_1(model, ratings_matrix))\n",
    "print(\"evaluate_scenario_2 Precision: \", evaluate_scenario_2(model, ratings_matrix))\n",
    "print(\"evaluate_scenario_3 Precision: \", evaluate_scenario_3(model, ratings_matrix))\n",
    "print(\"evaluate_scenario_4 Precision: \", evaluate_scenario_4(model, ratings_matrix))\n",
    "print(\"evaluate_scenario_5      RMSE: \", evaluate_scenario_5(model, ratings_matrix))"
   ]
  },
  {
   "cell_type": "code",
   "execution_count": 6,
   "metadata": {},
   "outputs": [
    {
     "name": "stdout",
     "output_type": "stream",
     "text": [
      "evaluate_scenario_1 Precision:  0.40299999999999997\n",
      "evaluate_scenario_2 Precision:  0.4975\n",
      "evaluate_scenario_3 Precision:  0.47\n",
      "evaluate_scenario_4 Precision:  0.5485\n",
      "evaluate_scenario_5      RMSE:  1.0028364924201612\n"
     ]
    }
   ],
   "source": [
    "model = KNNCF(movies, users)\n",
    "print(\"evaluate_scenario_1 Precision: \", evaluate_scenario_1(model, ratings_matrix))\n",
    "print(\"evaluate_scenario_2 Precision: \", evaluate_scenario_2(model, ratings_matrix))\n",
    "print(\"evaluate_scenario_3 Precision: \", evaluate_scenario_3(model, ratings_matrix))\n",
    "print(\"evaluate_scenario_4 Precision: \", evaluate_scenario_4(model, ratings_matrix))\n",
    "print(\"evaluate_scenario_5      RMSE: \", evaluate_scenario_5(model, ratings_matrix))"
   ]
  },
  {
   "cell_type": "code",
   "execution_count": 17,
   "metadata": {},
   "outputs": [],
   "source": [
    "# model = KNNCollaborativeFiltering(movies, users)\n",
    "# print(\"evaluate_scenario_1 Precision: \", evaluate_scenario_1(model, ratings_matrix))\n",
    "# print(\"evaluate_scenario_2 Precision: \", evaluate_scenario_2(model, ratings_matrix))\n",
    "# print(\"evaluate_scenario_3 Precision: \", evaluate_scenario_3(model, ratings_matrix))\n",
    "# print(\"evaluate_scenario_4 Precision: \", evaluate_scenario_4(model, ratings_matrix))\n",
    "# print(\"evaluate_scenario_5      RMSE: \", evaluate_scenario_5(model, ratings_matrix))"
   ]
  }
 ],
 "metadata": {
  "kernelspec": {
   "display_name": "Python 3",
   "language": "python",
   "name": "python3"
  },
  "language_info": {
   "codemirror_mode": {
    "name": "ipython",
    "version": 3
   },
   "file_extension": ".py",
   "mimetype": "text/x-python",
   "name": "python",
   "nbconvert_exporter": "python",
   "pygments_lexer": "ipython3",
   "version": "3.8.9"
  }
 },
 "nbformat": 4,
 "nbformat_minor": 2
}
